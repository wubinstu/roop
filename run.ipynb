{
  "cells": [
    {
      "cell_type": "markdown",
      "metadata": {
        "colab_type": "text",
        "id": "view-in-github"
      },
      "source": [
        "<a href=\"https://colab.research.google.com/github/wubinstu/roop/blob/main/run.ipynb\" target=\"_parent\"><img src=\"https://colab.research.google.com/assets/colab-badge.svg\" alt=\"Open In Colab\"/></a>"
      ]
    },
    {
      "cell_type": "code",
      "execution_count": null,
      "metadata": {
        "cellView": "form",
        "id": "ZqdQ95WTKCSQ"
      },
      "outputs": [],
      "source": [
        "# pre roop\n",
        "\n",
        "!git clone https://github.com/wubinstu/roop.git\n",
        "workdir = \"/content/roop\"\n",
        "%pip install -r {workdir}/requirements.txt\n",
        "\n",
        "!wget https://github.com/wubinstu/roop/releases/download/models/GFPGANv1.4.pth https://github.com/wubinstu/roop/releases/download/models/inswapper_128.onnx\n",
        "!mv /content/GFPGANv1.4.pth /content/inswapper_128.onnx /content/roop/models/\n",
        "\n",
        "source = f\"{workdir}/media/*.jpg\"\n",
        "target = f\"{workdir}/media/in.mp4\"\n",
        "output = f\"{workdir}/media/out.mp4\""
      ]
    },
    {
      "cell_type": "code",
      "execution_count": null,
      "metadata": {},
      "outputs": [],
      "source": [
        "# mount drive\n",
        "from google.colab import drive\n",
        "drive.mount('/content/drive')"
      ]
    },
    {
      "cell_type": "code",
      "execution_count": null,
      "metadata": {},
      "outputs": [],
      "source": [
        "# cp file\n",
        "!cp -rf /content/drive/MyDrive/? {target}"
      ]
    },
    {
      "cell_type": "code",
      "execution_count": null,
      "metadata": {
        "cellView": "form",
        "id": "cMJi9bI3LUyX"
      },
      "outputs": [],
      "source": [
        "# starting\n",
        "\n",
        "Device = \"cuda\" #@param [\"cuda\", \"cpu\"]\n",
        "Processor = \"face_swapper\" #@param [\"face_swapper face_enhancer\", \"face_swapper\",\"face_enhancer\"]\n",
        "VideoEncoder = \"libx264\" #@param ['libx264', 'libx265', 'libvpx-vp9', 'h264_nvenc', 'hevc_nvenc']\n",
        "VideoQuality = \"35\" #@param {type:\"string\"}\n",
        "TempFormat = \"jpg\" #@param [\"jpg\", \"png\"]\n",
        "TempQuality = \"0\" #@param {type:\"string\"}\n",
        "\n",
        "KeepFPS = True #@param {type:\"boolean\"}\n",
        "SkipAudio = False #@param {type:\"boolean\"}\n",
        "KeepFrames = False #@param {type:\"boolean\"}\n",
        "ManyFaces = False #@param {type:\"boolean\"}\n",
        "\n",
        "\n",
        "KeepFPS =\"--keep-fps\" if KeepFPS==True else \"\"\n",
        "SkipAudio =\"--skip-audio\" if SkipAudio==True else \"\"\n",
        "KeepFrames =\"--keep-frames\" if KeepFrames==True else \"\"\n",
        "ManyFaces =\"--many-faces\" if ManyFaces==True else \"\"\n",
        "\n",
        "\n",
        "\n",
        "cmd = f\"{workdir}/run.py --execution-provider {Device} -s {source} -t {target} -o {output} --frame-processor {Processor} --output-video-encoder {VideoEncoder} --output-video-quality {VideoQuality} {KeepFPS} {SkipAudio} {KeepFrames} {ManyFaces} --temp-frame-format {TempFormat} --temp-frame-quality {TempQuality}\"\n",
        "print(\"cmd:\"+cmd)\n",
        "!python $cmd\n"
      ]
    }
  ],
  "metadata": {
    "accelerator": "GPU",
    "colab": {
      "authorship_tag": "ABX9TyM1CbeA4/ov/+duYF8OLDPY",
      "collapsed_sections": [
        "klzSfQPfwSNV"
      ],
      "gpuType": "T4",
      "include_colab_link": true,
      "machine_shape": "hm",
      "provenance": []
    },
    "kernelspec": {
      "display_name": "Python 3",
      "name": "python3"
    },
    "language_info": {
      "name": "python"
    }
  },
  "nbformat": 4,
  "nbformat_minor": 0
}
