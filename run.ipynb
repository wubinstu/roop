{
  "cells": [
    {
      "cell_type": "markdown",
      "metadata": {
        "colab_type": "text",
        "id": "view-in-github"
      },
      "source": [
        "<a href=\"https://colab.research.google.com/github/wubinstu/roop/blob/main/run.ipynb\" target=\"_parent\"><img src=\"https://colab.research.google.com/assets/colab-badge.svg\" alt=\"Open In Colab\"/></a>"
      ]
    },
    {
      "cell_type": "code",
      "execution_count": null,
      "metadata": {
        "cellView": "form",
        "id": "ZqdQ95WTKCSQ"
      },
      "outputs": [],
      "source": [
        "!git clone https://github.com/wubinstu/roop.git\n",
        "workdir = \"/content/roop\""
      ]
    },
    {
      "cell_type": "code",
      "execution_count": null,
      "metadata": {},
      "outputs": [],
      "source": [
        "# pre roop\n",
        "\n",
        "def version_to_number(version):\n",
        "    parts = version.split('.')\n",
        "    major = int(parts[0].replace('v', ''))\n",
        "    minor = int(parts[1])\n",
        "    patch = int(parts[2])\n",
        "    return major, minor, patch\n",
        "\n",
        "\n",
        "Version = \"v1.1.0\" #@param [\"v1.0.1\",\"v1.1.0\",\"v1.2.1\",\"v1.3.0\",\"v1.3.1\",\"v1.3.2\"]\n",
        "vdict = {\n",
        "    \"v1.0.1\": \"773ce17897cd6507d1ac17132ccc64ff6b6f26cb\",\n",
        "    \"v1.1.0\": \"3d02b267663e4badc5c7936d5295effcae3dfbc0\",\n",
        "    \"v1.2.1\": \"312208a41102ba86d2454ae8efc9d3f0b786a6e7\",\n",
        "    \"v1.3.0\": \"142284916a5448acdf1a7fdca56d01c5aecafdad\",\n",
        "    \"v1.3.1\": \"e0642702f388ea16089a1d4a929728fa69457d60\",\n",
        "    \"v1.3.2\": \"c2d1feb17a9c51061b52cae5897136528f3b80cc\",\n",
        "}\n",
        "commit=vdict.get(Version, \"Invalid Version\")\n",
        "vcmd= f\"checkout {commit}\"\n",
        "!git -C {workdir} $vcmd\n",
        "\n",
        "import os\n",
        "if os.path.exists(f\"{workdir}/media\") == False:\n",
        "    !mkdir {workdir}/media\n",
        "if os.path.exists(f\"{workdir}/models\") == False:\n",
        "    !mkdir {workdir}/models"
      ]
    },
    {
      "cell_type": "code",
      "execution_count": null,
      "metadata": {},
      "outputs": [],
      "source": [
        "# 安装依赖\n",
        "%pip install -r {workdir}/requirements.txt"
      ]
    },
    {
      "cell_type": "code",
      "execution_count": null,
      "metadata": {},
      "outputs": [],
      "source": [
        "# 下载模型\n",
        "if os.path.exists(f\"/content/GFPGANv1.4.pth\") == False:\n",
        "    !wget https://github.com/wubinstu/roop/releases/download/models/GFPGANv1.4.pth -P /content/\n",
        "if os.path.exists(f\"/content/inswapper_128.onnx\") == False:\n",
        "    !wget https://github.com/wubinstu/roop/releases/download/models/inswapper_128.onnx -P /content/\n",
        "\n",
        "\n",
        "if os.path.exists(f\"{workdir}/models/GFPGANv1.4.pth\") == False:\n",
        "    !cp /content/GFPGANv1.4.pth {workdir}/models/\n",
        "if os.path.exists(f\"{workdir}/models/inswapper_128.onnx\") == False:\n",
        "    !cp /content/inswapper_128.onnx {workdir}/models/"
      ]
    },
    {
      "cell_type": "code",
      "execution_count": null,
      "metadata": {},
      "outputs": [],
      "source": [
        "# 使用通配符匹配文件, 以后缀区分, 注意不要让目录中出现同后缀文件\n",
        "source = f\"{workdir}/media/*.jpg\"\n",
        "target = f\"{workdir}/media/*.mp4\"\n",
        "output = f\"{workdir}/media/out.mkv\""
      ]
    },
    {
      "cell_type": "code",
      "execution_count": null,
      "metadata": {},
      "outputs": [],
      "source": [
        "# mount drive\n",
        "from google.colab import drive\n",
        "drive.mount('/content/drive')"
      ]
    },
    {
      "cell_type": "code",
      "execution_count": null,
      "metadata": {},
      "outputs": [],
      "source": [
        "# cp file\n",
        "!cp -rf /content/drive/MyDrive/? {workdir}/media/in.mp4\n",
        "# !cp -rf /content/drive/MyDrive/? {workdir}/media/in.jpg"
      ]
    },
    {
      "cell_type": "code",
      "execution_count": null,
      "metadata": {
        "cellView": "form",
        "id": "cMJi9bI3LUyX"
      },
      "outputs": [],
      "source": [
        "# starting\n",
        "\n",
        "Device = \"cuda\" #@param [\"cuda\", \"cpu\"]\n",
        "Processor = \"face_swapper\" #@param [\"face_swapper face_enhancer\", \"face_swapper\",\"face_enhancer\"]\n",
        "VideoEncoder = \"libx264\" #@param ['libx264', 'libx265', 'libvpx-vp9', 'h264_nvenc', 'hevc_nvenc']\n",
        "VideoQuality = \"35\" #@param {type:\"string\"}\n",
        "TempFormat = \"jpg\" #@param [\"jpg\", \"png\"]\n",
        "TempQuality = \"0\" #@param {type:\"string\"}\n",
        "TempFormat = \"--temp-frame-format \" + TempFormat\n",
        "TempQuality = \"--temp-frame-quality \" + TempQuality\n",
        "\n",
        "KeepFPS = True #@param {type:\"boolean\"}\n",
        "SkipAudio = False #@param {type:\"boolean\"}\n",
        "KeepAudio = !SkipAudio\n",
        "KeepFrames = False #@param {type:\"boolean\"}\n",
        "ManyFaces = False #@param {type:\"boolean\"}\n",
        "\n",
        "\n",
        "KeepFPS =\"--keep-fps\" if KeepFPS==True else \"\"\n",
        "KeepFrames =\"--keep-frames\" if KeepFrames==True else \"\"\n",
        "ManyFaces =\"--many-faces\" if ManyFaces==True else \"\"\n",
        "\n",
        "# for 1.0.*,  1.1.*\n",
        "KeepAudio =\"--keep-audio\" if KeepAudio==True else \"\"\n",
        "# for 1.2.*,  1.3.*\n",
        "SkipAudio =\"--skip-audio\" if SkipAudio==True else \"\"\n",
        "\n",
        "\n",
        "# 将版本号转换成数字\n",
        "Audio = \"\"\n",
        "current_major, current_minor, current_patch = version_to_number(Version)\n",
        "target_major, target_minor, target_patch = version_to_number(\"v1.2.1\")\n",
        "if (current_major, current_minor, current_patch) < (target_major, target_minor, target_patch):\n",
        "    Audio = KeepAudio\n",
        "    TempFormat = \"\"\n",
        "    TempQuality = \"\"\n",
        "    VideoEncoder = \"--video-encoder \" + VideoEncoder\n",
        "    VideoQuality = \"--video-quality \" + VideoQuality\n",
        "else:\n",
        "    Audio = SkipAudio\n",
        "    VideoEncoder = \"--output-video-encoder \" + VideoEncoder\n",
        "    VideoQuality = \"--output-video-quality \" + VideoQuality\n",
        "\n",
        "\n",
        "cmd = f\"\"\"{workdir}/run.py --execution-provider {Device} \\\n",
        "                        -s {source} -t {target} -o {output} \\\n",
        "                        --frame-processor {Processor} \\\n",
        "                        {VideoEncoder} {VideoQuality} \\\n",
        "                        {KeepFPS} {Audio} {KeepFrames} {ManyFaces} \\\n",
        "                        {TempFormat} {TempQuality}\"\"\"\n",
        "print(\"cmd:\"+cmd)\n",
        "\n",
        "!python $cmd"
      ]
    }
  ],
  "metadata": {
    "accelerator": "GPU",
    "colab": {
      "authorship_tag": "ABX9TyM1CbeA4/ov/+duYF8OLDPY",
      "collapsed_sections": [
        "klzSfQPfwSNV"
      ],
      "gpuType": "T4",
      "include_colab_link": true,
      "machine_shape": "hm",
      "provenance": []
    },
    "kernelspec": {
      "display_name": "Python 3",
      "name": "python3"
    },
    "language_info": {
      "name": "python"
    }
  },
  "nbformat": 4,
  "nbformat_minor": 0
}
